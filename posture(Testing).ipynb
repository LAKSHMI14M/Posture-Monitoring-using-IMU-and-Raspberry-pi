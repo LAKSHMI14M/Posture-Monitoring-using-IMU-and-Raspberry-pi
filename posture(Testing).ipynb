{
  "nbformat": 4,
  "nbformat_minor": 0,
  "metadata": {
    "colab": {
      "provenance": []
    },
    "kernelspec": {
      "name": "python3",
      "display_name": "Python 3"
    },
    "language_info": {
      "name": "python"
    }
  },
  "cells": [
    {
      "cell_type": "code",
      "execution_count": null,
      "metadata": {
        "id": "Co__rfujY63O"
      },
      "outputs": [],
      "source": [
        "import numpy as np\n",
        "import gspread\n",
        "from oauth2client.service_account import ServiceAccountCredentials\n",
        "import requests\n",
        "from tensorflow.keras.models import load_model\n",
        "\n",
        "# Load your machine learning model\n",
        "model = load_model('/content/Posture_Detection.h5')  # Replace '/path/to/your/model.h5' with the actual path to your model file\n",
        "\n",
        "# Define the scope and credentials to access Google Sheets and Google Drive\n",
        "scope = ['https://www.googleapis.com/auth/spreadsheets',\n",
        "         'https://www.googleapis.com/auth/drive']\n",
        "credentials = ServiceAccountCredentials.from_json_keyfile_name('/content/manvitha _credetnials.json', scope)\n",
        "\n",
        "\n",
        "client = gspread.authorize(credentials)\n",
        "\n",
        "\n",
        "sheet = client.open(\"RaspberrypiData\")\n",
        "worksheet = sheet.get_worksheet(0)\n",
        "\n",
        "\n",
        "try:\n",
        "    sensor_data = worksheet.get_all_values()\n",
        "except requests.exceptions.ReadTimeout as e:\n",
        "    print(\"Timeout while reading data from Google Sheet:\", e)\n",
        "    sensor_data = []\n",
        "import numpy as np\n",
        "\n",
        "processed_data = []\n",
        "# Iterate through each row in sensor_data\n",
        "for row in sensor_data:\n",
        "    # Check if all elements in the row are empty strings\n",
        "    if all(cell == '' for cell in row):\n",
        "        continue  # Skip empty rows\n",
        "\n",
        "    # Convert each element in the row to float\n",
        "    processed_row = []\n",
        "    for cell in row:\n",
        "        processed_row.append(float(cell))\n",
        "\n",
        "    # Convert sensor values to posture labels (0 for correct posture, 1 for wrong posture)\n",
        "    posture_label = 1 if any(value > 0 for value in processed_row) else 0\n",
        "    processed_row.append(posture_label)\n",
        "\n",
        "    processed_data.append(processed_row)\n",
        "\n",
        "if processed_data:\n",
        "    # Extract features and labels\n",
        "    X = np.array([row[:-1] for row in processed_data])  # Features\n",
        "    y = np.array([row[-1] for row in processed_data])   # Labels\n",
        "\n",
        "    # Make predictions using the model\n",
        "    predictions = model.predict(X)\n",
        "\n",
        "    print(\"Predicted activities:\")\n",
        "    for i, prediction in enumerate(predictions):\n",
        "        if any(prediction>0):\n",
        "            print(\"You are sitting in wrong posture.\")\n",
        "        else:\n",
        "            print(\"You are sitting in correct posture.\")\n",
        "\n",
        "else:\n",
        "    print(\"No valid sensor data found in the Google Sheet.\")"
      ]
    }
  ]
}